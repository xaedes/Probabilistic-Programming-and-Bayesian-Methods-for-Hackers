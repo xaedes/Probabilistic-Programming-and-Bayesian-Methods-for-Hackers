{
 "metadata": {
  "name": "",
  "signature": "sha256:3689c7bf18868c115d9df68facbc1ed7a3e0aecf7c271c4c6b96442215ace914"
 },
 "nbformat": 3,
 "nbformat_minor": 0,
 "worksheets": [
  {
   "cells": [
    {
     "cell_type": "code",
     "collapsed": false,
     "input": [
      "import json\n",
      "s = json.load( open(\"../styles/bmh_matplotlibrc.json\") )\n",
      "matplotlib.rcParams.update(s)"
     ],
     "language": "python",
     "metadata": {},
     "outputs": [],
     "prompt_number": 16
    },
    {
     "cell_type": "code",
     "collapsed": false,
     "input": [
      "import pymc as pm\n",
      "figsize(12, 4)\n",
      "\n",
      "# CTR = Click Through Rate\n",
      "# A: 2,80\u20ac Versand pauschal\n",
      "# B: G\u00fcnstiger Versand\n",
      "obs = lambda n_true,n_false:np.array([1] * n_true+ [0]*n_false)\n",
      "ctr_A = obs(35,3589)\n",
      "ctr_B = obs(28,3394)\n",
      "bounce_A = obs(21,14)\n",
      "bounce_B = obs(16,12)\n",
      "interest_A = obs(7,28)\n",
      "interest_B = obs(8,20)"
     ],
     "language": "python",
     "metadata": {},
     "outputs": [],
     "prompt_number": 17
    },
    {
     "cell_type": "code",
     "collapsed": false,
     "input": [
      "print ctr_A.mean()\n",
      "print ctr_B.mean()"
     ],
     "language": "python",
     "metadata": {},
     "outputs": [
      {
       "output_type": "stream",
       "stream": "stdout",
       "text": [
        "0.00965783664459\n",
        "0.00818234950321\n"
       ]
      }
     ],
     "prompt_number": 9
    },
    {
     "cell_type": "code",
     "collapsed": false,
     "input": [
      "# Set up the pymc model. Again assume Uniform priors for p_A and p_B.\n",
      "p_A = pm.Uniform(\"p_A\", 0, 1)\n",
      "p_B = pm.Uniform(\"p_B\", 0, 1)\n",
      "\n",
      "\n",
      "# Define the deterministic delta function. This is our unknown of interest.\n",
      "@pm.deterministic\n",
      "def delta(p_A=p_A, p_B=p_B):\n",
      "    return p_A - p_B\n",
      "\n",
      "# Set of observations, in this case we have two observation datasets.\n",
      "obs_A = pm.Bernoulli(\"obs_A\", p_A, value=bounce_A, observed=True)\n",
      "obs_B = pm.Bernoulli(\"obs_B\", p_B, value=bounce_B, observed=True)\n",
      "\n",
      "# To be explained in chapter 3.\n",
      "mcmc = pm.MCMC([p_A, p_B, delta, obs_A, obs_B])\n",
      "mcmc.sample(20000, 1000)"
     ],
     "language": "python",
     "metadata": {},
     "outputs": [
      {
       "output_type": "stream",
       "stream": "stdout",
       "text": [
        "\r",
        " [--                6%                  ] 1328 of 20000 complete in 0.5 sec"
       ]
      },
      {
       "output_type": "stream",
       "stream": "stdout",
       "text": [
        "\r",
        " [----             12%                  ] 2406 of 20000 complete in 1.0 sec"
       ]
      },
      {
       "output_type": "stream",
       "stream": "stdout",
       "text": [
        "\r",
        " [------           17%                  ] 3546 of 20000 complete in 1.5 sec"
       ]
      },
      {
       "output_type": "stream",
       "stream": "stdout",
       "text": [
        "\r",
        " [---------        23%                  ] 4776 of 20000 complete in 2.0 sec"
       ]
      },
      {
       "output_type": "stream",
       "stream": "stdout",
       "text": [
        "\r",
        " [-----------      30%                  ] 6053 of 20000 complete in 2.5 sec"
       ]
      },
      {
       "output_type": "stream",
       "stream": "stdout",
       "text": [
        "\r",
        " [-------------    36%                  ] 7318 of 20000 complete in 3.0 sec"
       ]
      },
      {
       "output_type": "stream",
       "stream": "stdout",
       "text": [
        "\r",
        " [---------------- 42%                  ] 8585 of 20000 complete in 3.5 sec"
       ]
      },
      {
       "output_type": "stream",
       "stream": "stdout",
       "text": [
        "\r",
        " [-----------------49%                  ] 9863 of 20000 complete in 4.0 sec"
       ]
      },
      {
       "output_type": "stream",
       "stream": "stdout",
       "text": [
        "\r",
        " [-----------------55%-                 ] 11128 of 20000 complete in 4.5 sec"
       ]
      },
      {
       "output_type": "stream",
       "stream": "stdout",
       "text": [
        "\r",
        " [-----------------61%---               ] 12385 of 20000 complete in 5.0 sec"
       ]
      },
      {
       "output_type": "stream",
       "stream": "stdout",
       "text": [
        "\r",
        " [-----------------68%-----             ] 13681 of 20000 complete in 5.5 sec"
       ]
      },
      {
       "output_type": "stream",
       "stream": "stdout",
       "text": [
        "\r",
        " [-----------------74%--------          ] 14956 of 20000 complete in 6.0 sec"
       ]
      },
      {
       "output_type": "stream",
       "stream": "stdout",
       "text": [
        "\r",
        " [-----------------81%----------        ] 16276 of 20000 complete in 6.5 sec"
       ]
      },
      {
       "output_type": "stream",
       "stream": "stdout",
       "text": [
        "\r",
        " [-----------------87%-------------     ] 17573 of 20000 complete in 7.0 sec"
       ]
      },
      {
       "output_type": "stream",
       "stream": "stdout",
       "text": [
        "\r",
        " [-----------------94%---------------   ] 18869 of 20000 complete in 7.5 sec"
       ]
      },
      {
       "output_type": "stream",
       "stream": "stdout",
       "text": [
        "\r",
        " [-----------------100%-----------------] 20000 of 20000 complete in 7.9 sec"
       ]
      }
     ],
     "prompt_number": 34
    },
    {
     "cell_type": "code",
     "collapsed": false,
     "input": [
      "p_A_samples = mcmc.trace(\"p_A\")[:]\n",
      "p_B_samples = mcmc.trace(\"p_B\")[:]\n",
      "delta_samples = mcmc.trace(\"delta\")[:]"
     ],
     "language": "python",
     "metadata": {},
     "outputs": [],
     "prompt_number": 35
    },
    {
     "cell_type": "code",
     "collapsed": false,
     "input": [
      "figsize(12.5, 10)\n",
      "\n",
      "# histogram of posteriors\n",
      "\n",
      "ax = plt.subplot(311)\n",
      "\n",
      "plt.xlim(0, .1)\n",
      "plt.hist(p_A_samples, histtype='stepfilled', bins=25, alpha=0.85,\n",
      "         label=\"posterior of $p_A$\", color=\"#A60628\", normed=True)\n",
      "# plt.vlines(true_p_A, 0, 80, linestyle=\"--\", label=\"true $p_A$ (unknown)\")\n",
      "plt.legend(loc=\"upper right\")\n",
      "plt.title(\"Posterior distributions of $p_A$, $p_B$, and delta unknowns\")\n",
      "\n",
      "ax = plt.subplot(312)\n",
      "\n",
      "plt.xlim(0, .1)\n",
      "plt.hist(p_B_samples, histtype='stepfilled', bins=25, alpha=0.85,\n",
      "         label=\"posterior of $p_B$\", color=\"#467821\", normed=True)\n",
      "# plt.vlines(true_p_B, 0, 80, linestyle=\"--\", label=\"true $p_B$ (unknown)\")\n",
      "plt.legend(loc=\"upper right\")\n",
      "\n",
      "ax = plt.subplot(313)\n",
      "plt.hist(delta_samples, histtype='stepfilled', bins=30, alpha=0.85,\n",
      "         label=\"posterior of delta\", color=\"#7A68A6\", normed=True)\n",
      "# plt.vlines(true_p_A - true_p_B, 0, 60, linestyle=\"--\",\n",
      "#            label=\"true delta (unknown)\")\n",
      "plt.vlines(0, 0, 60, color=\"black\", alpha=0.2)\n",
      "plt.legend(loc=\"upper right\");"
     ],
     "language": "python",
     "metadata": {},
     "outputs": [
      {
       "metadata": {},
       "output_type": "display_data",
       "png": "[encoded data removed]",
       "text": [
        "<matplotlib.figure.Figure at 0x41cbb50>"
       ]
      }
     ],
     "prompt_number": 36
    },
    {
     "cell_type": "code",
     "collapsed": false,
     "input": [
      "# Count the number of samples less than 0, i.e. the area under the curve\n",
      "# before 0, represent the probability that site A is worse than site B.\n",
      "print \"Probability site A is WORSE than site B: %.3f\" % \\\n",
      "    (delta_samples < 0).mean()\n",
      "\n",
      "print \"Probability site A is BETTER than site B: %.3f\" % \\\n",
      "    (delta_samples > 0).mean()"
     ],
     "language": "python",
     "metadata": {},
     "outputs": [
      {
       "output_type": "stream",
       "stream": "stdout",
       "text": [
        "Probability site A is WORSE than site B: 0.409\n",
        "Probability site A is BETTER than site B: 0.591\n"
       ]
      }
     ],
     "prompt_number": 37
    },
    {
     "cell_type": "code",
     "collapsed": false,
     "input": [],
     "language": "python",
     "metadata": {},
     "outputs": []
    },
    {
     "cell_type": "code",
     "collapsed": false,
     "input": [
      "\n",
      "\n",
      "\n",
      "\n",
      "\n",
      "\n",
      "\n",
      "\n",
      "\n",
      "\n",
      "\n",
      "\n",
      "\n",
      "\n",
      "\n",
      "\n",
      "\n",
      "\n",
      "\n",
      "\n",
      "\n",
      "\n",
      "\n",
      "\n",
      "\n",
      "\n",
      "\n",
      "\n",
      "\n",
      "\n",
      "\n",
      "\n",
      "\n",
      "\n",
      "\n",
      "\n",
      "\n",
      "\n",
      "\n",
      "\n",
      "\n",
      "\n",
      "\n",
      "\n",
      "\n",
      "\n",
      "\n",
      "\n",
      "\n",
      "\n",
      "\n",
      "\n",
      "\n",
      "\n",
      "\n",
      "\n",
      "\n",
      "\n",
      "\n",
      "\n",
      "\n",
      "\n",
      "\n",
      "\n",
      "\n",
      "\n",
      "\n",
      "\n",
      "\n",
      "\n",
      "\n",
      "\n",
      "\n",
      "\n",
      "\n",
      "\n",
      "\n",
      "\n",
      "\n",
      "\n",
      "\n",
      "\n",
      "\n",
      "\n",
      "\n",
      "\n",
      "\n",
      "\n",
      "\n",
      "\n",
      "\n",
      "\n",
      "\n",
      "\n",
      "\n",
      "\n",
      "\n",
      "\n"
     ],
     "language": "python",
     "metadata": {},
     "outputs": []
    }
   ],
   "metadata": {}
  }
 ]
}